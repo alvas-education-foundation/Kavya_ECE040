{
  "nbformat": 4,
  "nbformat_minor": 0,
  "metadata": {
    "colab": {
      "name": "Day_3_session_1.ipynb",
      "provenance": [],
      "authorship_tag": "ABX9TyOKijRCNj39V35ki8Qt/TLi",
      "include_colab_link": true
    },
    "kernelspec": {
      "name": "python3",
      "display_name": "Python 3"
    }
  },
  "cells": [
    {
      "cell_type": "markdown",
      "metadata": {
        "id": "view-in-github",
        "colab_type": "text"
      },
      "source": [
        "<a href=\"https://colab.research.google.com/github/alvas-education-foundation/Kavya_ECE040/blob/master/Day_3_session_1.ipynb\" target=\"_parent\"><img src=\"https://colab.research.google.com/assets/colab-badge.svg\" alt=\"Open In Colab\"/></a>"
      ]
    },
    {
      "cell_type": "code",
      "metadata": {
        "id": "uCY3kgg-iY1m",
        "colab_type": "code",
        "colab": {}
      },
      "source": [
        ""
      ],
      "execution_count": null,
      "outputs": []
    },
    {
      "cell_type": "markdown",
      "metadata": {
        "id": "L8cVClYDia0i",
        "colab_type": "text"
      },
      "source": [
        "Program for prime number -bad code\n"
      ]
    },
    {
      "cell_type": "code",
      "metadata": {
        "id": "puDiTtykibzQ",
        "colab_type": "code",
        "colab": {
          "base_uri": "https://localhost:8080/",
          "height": 34
        },
        "outputId": "babc2f92-c2aa-44da-a614-55151c301450"
      },
      "source": [
        "i=25\n",
        "for x in range(2, i//2+1):\n",
        "      if i%x==0:\n",
        "         print(\"The number {} is not prime\".format(i))\n",
        "         break\n",
        "if x ==i//2:\n",
        "   print (\"{} is a prime number\".format(i))"
      ],
      "execution_count": 1,
      "outputs": [
        {
          "output_type": "stream",
          "text": [
            "The number 25 is not prime\n"
          ],
          "name": "stdout"
        }
      ]
    },
    {
      "cell_type": "markdown",
      "metadata": {
        "id": "J0xXrX0-ixFZ",
        "colab_type": "text"
      },
      "source": [
        "Good code using for... else"
      ]
    },
    {
      "cell_type": "code",
      "metadata": {
        "id": "ueG_qNxui0zx",
        "colab_type": "code",
        "colab": {
          "base_uri": "https://localhost:8080/",
          "height": 34
        },
        "outputId": "50d4f0cc-664a-4a04-9a1d-e00d6440117f"
      },
      "source": [
        "i=25\n",
        "for x in range(2, i//2+1):\n",
        "      if i%x==0:\n",
        "         print(\"The number {} is not prime\".format(i))\n",
        "         break\n",
        "else:\n",
        "    print (\"{} is a prime number\".format(i))"
      ],
      "execution_count": 2,
      "outputs": [
        {
          "output_type": "stream",
          "text": [
            "The number 25 is not prime\n"
          ],
          "name": "stdout"
        }
      ]
    },
    {
      "cell_type": "markdown",
      "metadata": {
        "id": "T13QQCmKjg6v",
        "colab_type": "text"
      },
      "source": [
        "Using Unpacking to Write Concise Code"
      ]
    },
    {
      "cell_type": "code",
      "metadata": {
        "id": "nuhLNvURlIGe",
        "colab_type": "code",
        "colab": {}
      },
      "source": [
        ""
      ],
      "execution_count": null,
      "outputs": []
    },
    {
      "cell_type": "markdown",
      "metadata": {
        "id": "-aGWiPEKql59",
        "colab_type": "text"
      },
      "source": [
        "Packing and unpacking are powerful Python features. You can use unpacking to assign values to your variables:"
      ]
    },
    {
      "cell_type": "code",
      "metadata": {
        "id": "rrVosufmqnFf",
        "colab_type": "code",
        "colab": {
          "base_uri": "https://localhost:8080/",
          "height": 50
        },
        "outputId": "99e356ad-6f2e-454e-ed2c-e7df50a9b149"
      },
      "source": [
        "a, b = 2, 'my-string'\n",
        "print(a)\n",
        "print(b)"
      ],
      "execution_count": 3,
      "outputs": [
        {
          "output_type": "stream",
          "text": [
            "2\n",
            "my-string\n"
          ],
          "name": "stdout"
        }
      ]
    },
    {
      "cell_type": "markdown",
      "metadata": {
        "id": "AO2kSc3aqtu1",
        "colab_type": "text"
      },
      "source": [
        "Bad unpacking"
      ]
    },
    {
      "cell_type": "code",
      "metadata": {
        "id": "Ecg_ha0equiW",
        "colab_type": "code",
        "colab": {
          "base_uri": "https://localhost:8080/",
          "height": 34
        },
        "outputId": "15533682-1ce6-4194-df7e-99e11008f001"
      },
      "source": [
        "x = (1, 2, 4, 8, 16)\n",
        "a = x[0]\n",
        "b = x[1]\n",
        "c = x[2]\n",
        "d = x[3]\n",
        "e = x[4]\n",
        "print(a, b, c, d, e)"
      ],
      "execution_count": 4,
      "outputs": [
        {
          "output_type": "stream",
          "text": [
            "1 2 4 8 16\n"
          ],
          "name": "stdout"
        }
      ]
    },
    {
      "cell_type": "markdown",
      "metadata": {
        "id": "HkBA8t-dq07C",
        "colab_type": "text"
      },
      "source": [
        "Excellent unpacking"
      ]
    },
    {
      "cell_type": "code",
      "metadata": {
        "id": "LGVzCz3Yq1eL",
        "colab_type": "code",
        "colab": {
          "base_uri": "https://localhost:8080/",
          "height": 34
        },
        "outputId": "fa8f7332-2441-45c9-b314-db479f475a1f"
      },
      "source": [
        "a,b,c,d,e=x\n",
        "print(a, b, c, d, e)\n"
      ],
      "execution_count": 5,
      "outputs": [
        {
          "output_type": "stream",
          "text": [
            "1 2 4 8 16\n"
          ],
          "name": "stdout"
        }
      ]
    },
    {
      "cell_type": "markdown",
      "metadata": {
        "id": "mGyh28aFq51I",
        "colab_type": "text"
      },
      "source": [
        "unpacking some elements"
      ]
    },
    {
      "cell_type": "code",
      "metadata": {
        "id": "QuHFqBCHr71M",
        "colab_type": "code",
        "colab": {
          "base_uri": "https://localhost:8080/",
          "height": 67
        },
        "outputId": "9bcfd93e-b65f-494a-ee4b-ee7e822ad2d8"
      },
      "source": [
        "a, *y, e = x\n",
        "print(a)\n",
        "print(y)\n",
        "print(e)"
      ],
      "execution_count": 6,
      "outputs": [
        {
          "output_type": "stream",
          "text": [
            "1\n",
            "[2, 4, 8]\n",
            "16\n"
          ],
          "name": "stdout"
        }
      ]
    },
    {
      "cell_type": "markdown",
      "metadata": {
        "id": "wHt7MmjnsE1D",
        "colab_type": "text"
      },
      "source": [
        "Using Chaining to Write Concise Code"
      ]
    },
    {
      "cell_type": "markdown",
      "metadata": {
        "id": "tBa4Iq6HsKXl",
        "colab_type": "text"
      },
      "source": [
        "Python allows you to chain the comparison operations. So, you don’t have to use and to check if two or more comparisons are True:"
      ]
    },
    {
      "cell_type": "code",
      "metadata": {
        "id": "enj6kU6UsK5c",
        "colab_type": "code",
        "colab": {
          "base_uri": "https://localhost:8080/",
          "height": 34
        },
        "outputId": "c8b6225f-1e8d-424f-f4d3-8bb89ecbdc50"
      },
      "source": [
        "x = 4\n",
        "print(x >= 2 and x <= 8)\n"
      ],
      "execution_count": 8,
      "outputs": [
        {
          "output_type": "stream",
          "text": [
            "True\n"
          ],
          "name": "stdout"
        }
      ]
    },
    {
      "cell_type": "markdown",
      "metadata": {
        "id": "8xW9OGzDsP5N",
        "colab_type": "text"
      },
      "source": [
        "Instead, you can write this in a more compact form, like mathematicians do:"
      ]
    },
    {
      "cell_type": "code",
      "metadata": {
        "id": "Qu7LXHpKsVrr",
        "colab_type": "code",
        "colab": {
          "base_uri": "https://localhost:8080/",
          "height": 50
        },
        "outputId": "ffc98b20-955b-4573-c10b-ee3b08391fdc"
      },
      "source": [
        "print(2 <= x <= 8)\n",
        "print(2 <= x <= 3)"
      ],
      "execution_count": 9,
      "outputs": [
        {
          "output_type": "stream",
          "text": [
            "True\n",
            "False\n"
          ],
          "name": "stdout"
        }
      ]
    },
    {
      "cell_type": "markdown",
      "metadata": {
        "id": "XKMueMqSsWcb",
        "colab_type": "text"
      },
      "source": [
        "chained assignments"
      ]
    },
    {
      "cell_type": "code",
      "metadata": {
        "id": "FxWQ6atOsbXi",
        "colab_type": "code",
        "colab": {
          "base_uri": "https://localhost:8080/",
          "height": 34
        },
        "outputId": "5833ee54-b2dd-4755-c399-e8cd9ebfc705"
      },
      "source": [
        "x = y = z = 2\n",
        "x, y, z # when we use , it becomes tuple"
      ],
      "execution_count": 10,
      "outputs": [
        {
          "output_type": "execute_result",
          "data": {
            "text/plain": [
              "(2, 2, 2)"
            ]
          },
          "metadata": {
            "tags": []
          },
          "execution_count": 10
        }
      ]
    },
    {
      "cell_type": "markdown",
      "metadata": {
        "id": "m1Sz2m0Cskca",
        "colab_type": "text"
      },
      "source": [
        "Checking against None"
      ]
    },
    {
      "cell_type": "code",
      "metadata": {
        "id": "rrvmXwU2sk_U",
        "colab_type": "code",
        "colab": {
          "base_uri": "https://localhost:8080/",
          "height": 84
        },
        "outputId": "2dd0fb85-3bf3-4d95-b64b-32c93ca4cfe1"
      },
      "source": [
        "# normal way\n",
        "x, y = 2, None\n",
        "print(x == None)\n",
        "print(y == None)\n",
        "print(x != None)\n",
        "print(y != None)\n"
      ],
      "execution_count": 11,
      "outputs": [
        {
          "output_type": "stream",
          "text": [
            "False\n",
            "True\n",
            "True\n",
            "False\n"
          ],
          "name": "stdout"
        }
      ]
    },
    {
      "cell_type": "markdown",
      "metadata": {
        "id": "hbqbT_7Wsra5",
        "colab_type": "text"
      },
      "source": [
        "In pythonic way"
      ]
    },
    {
      "cell_type": "code",
      "metadata": {
        "id": "OBeffRgFssNQ",
        "colab_type": "code",
        "colab": {
          "base_uri": "https://localhost:8080/",
          "height": 84
        },
        "outputId": "234a2c5f-8455-4fdb-cdb5-925a08fec3e2"
      },
      "source": [
        "x is None\n",
        "print(x is None)\n",
        "print(y is None)\n",
        "print(x is not None)\n",
        "print(y is not None)"
      ],
      "execution_count": 12,
      "outputs": [
        {
          "output_type": "stream",
          "text": [
            "False\n",
            "True\n",
            "True\n",
            "False\n"
          ],
          "name": "stdout"
        }
      ]
    },
    {
      "cell_type": "markdown",
      "metadata": {
        "id": "lorwLIclsv1f",
        "colab_type": "text"
      },
      "source": [
        "Iterating over Sequences\n"
      ]
    },
    {
      "cell_type": "code",
      "metadata": {
        "id": "6JyaSNqtszuo",
        "colab_type": "code",
        "colab": {
          "base_uri": "https://localhost:8080/",
          "height": 101
        },
        "outputId": "10183d14-8778-458f-a3b1-b170b0d170ef"
      },
      "source": [
        "x = [1, 2, 4, 8, 16]\n",
        "for i in range(len(x)):\n",
        "  print(x[i])\n"
      ],
      "execution_count": 13,
      "outputs": [
        {
          "output_type": "stream",
          "text": [
            "1\n",
            "2\n",
            "4\n",
            "8\n",
            "16\n"
          ],
          "name": "stdout"
        }
      ]
    },
    {
      "cell_type": "markdown",
      "metadata": {
        "id": "jErWQmWSs3VN",
        "colab_type": "text"
      },
      "source": [
        "But instead we can do like this in elegant way"
      ]
    },
    {
      "cell_type": "code",
      "metadata": {
        "id": "0w9n6dSps6MV",
        "colab_type": "code",
        "colab": {
          "base_uri": "https://localhost:8080/",
          "height": 101
        },
        "outputId": "0997ec3e-0060-4bc3-9112-b34c70b08ba4"
      },
      "source": [
        "for item in x:\n",
        "  print(item)\n"
      ],
      "execution_count": 14,
      "outputs": [
        {
          "output_type": "stream",
          "text": [
            "1\n",
            "2\n",
            "4\n",
            "8\n",
            "16\n"
          ],
          "name": "stdout"
        }
      ]
    },
    {
      "cell_type": "markdown",
      "metadata": {
        "id": "nXmDO9F2s9gG",
        "colab_type": "text"
      },
      "source": [
        "to iterate in the reversed order"
      ]
    },
    {
      "cell_type": "code",
      "metadata": {
        "id": "D9EvEupRtARo",
        "colab_type": "code",
        "colab": {
          "base_uri": "https://localhost:8080/",
          "height": 101
        },
        "outputId": "6d9bccc6-c652-4f06-a452-2bd64fa45207"
      },
      "source": [
        "for i in range(len(x)-1, -1, -1):\n",
        "  print(x[i])"
      ],
      "execution_count": 15,
      "outputs": [
        {
          "output_type": "stream",
          "text": [
            "16\n",
            "8\n",
            "4\n",
            "2\n",
            "1\n"
          ],
          "name": "stdout"
        }
      ]
    },
    {
      "cell_type": "markdown",
      "metadata": {
        "id": "qEJteiTOtEpL",
        "colab_type": "text"
      },
      "source": [
        "But in elegant way!"
      ]
    },
    {
      "cell_type": "code",
      "metadata": {
        "id": "WlhAOByDtIjD",
        "colab_type": "code",
        "colab": {
          "base_uri": "https://localhost:8080/",
          "height": 101
        },
        "outputId": "55e22639-2eba-42ef-b543-4127d10cc793"
      },
      "source": [
        "for item in x[::-1]:\n",
        "  print(item)"
      ],
      "execution_count": 17,
      "outputs": [
        {
          "output_type": "stream",
          "text": [
            "16\n",
            "8\n",
            "4\n",
            "2\n",
            "1\n"
          ],
          "name": "stdout"
        }
      ]
    },
    {
      "cell_type": "markdown",
      "metadata": {
        "id": "8nvElr9otRCD",
        "colab_type": "text"
      },
      "source": [
        "The Pythonic way is to use reversed to get an iterator that yields the items of a\n",
        "sequence in the reversed order:"
      ]
    },
    {
      "cell_type": "code",
      "metadata": {
        "id": "mzlhQ7APtR2o",
        "colab_type": "code",
        "colab": {
          "base_uri": "https://localhost:8080/",
          "height": 101
        },
        "outputId": "94f906d5-cfaf-46be-c6e1-6b34b41ec440"
      },
      "source": [
        "for item in reversed(x):\n",
        "  print(item)"
      ],
      "execution_count": 18,
      "outputs": [
        {
          "output_type": "stream",
          "text": [
            "16\n",
            "8\n",
            "4\n",
            "2\n",
            "1\n"
          ],
          "name": "stdout"
        }
      ]
    },
    {
      "cell_type": "markdown",
      "metadata": {
        "id": "sUuxD9IbtXKT",
        "colab_type": "text"
      },
      "source": [
        "Sometimes you need both the items from a sequence and the corresponding indices:"
      ]
    },
    {
      "cell_type": "code",
      "metadata": {
        "id": "XpXRrDSXtarz",
        "colab_type": "code",
        "colab": {
          "base_uri": "https://localhost:8080/",
          "height": 101
        },
        "outputId": "5a94b2b2-3f9f-4bc9-d7f5-4a767fde300f"
      },
      "source": [
        "for i in range(len(x)):\n",
        "  print(i, x[i])"
      ],
      "execution_count": 19,
      "outputs": [
        {
          "output_type": "stream",
          "text": [
            "0 1\n",
            "1 2\n",
            "2 4\n",
            "3 8\n",
            "4 16\n"
          ],
          "name": "stdout"
        }
      ]
    },
    {
      "cell_type": "markdown",
      "metadata": {
        "id": "S-hHWn44tgVL",
        "colab_type": "text"
      },
      "source": [
        "It’s better to use enumerate to get another iterator that yields the tuples with the indices\n",
        "and items:"
      ]
    },
    {
      "cell_type": "code",
      "metadata": {
        "id": "A1x12q41tjbX",
        "colab_type": "code",
        "colab": {
          "base_uri": "https://localhost:8080/",
          "height": 101
        },
        "outputId": "852cd1f6-e25e-41ec-d7ea-8233d5dbcf74"
      },
      "source": [
        "for i, item in enumerate(x):\n",
        "  print(i, item)\n"
      ],
      "execution_count": 20,
      "outputs": [
        {
          "output_type": "stream",
          "text": [
            "0 1\n",
            "1 2\n",
            "2 4\n",
            "3 8\n",
            "4 16\n"
          ],
          "name": "stdout"
        }
      ]
    },
    {
      "cell_type": "markdown",
      "metadata": {
        "id": "CO6yXBh5tpnC",
        "colab_type": "text"
      },
      "source": [
        "what if you want to iterate over two or more sequences? Of course, you can use the\n",
        "range again:"
      ]
    },
    {
      "cell_type": "code",
      "metadata": {
        "id": "FqMhYgo_tsJJ",
        "colab_type": "code",
        "colab": {
          "base_uri": "https://localhost:8080/",
          "height": 101
        },
        "outputId": "114eae7e-caa2-4eaf-f5ec-352a877d79d1"
      },
      "source": [
        "y = 'abcde'\n",
        "for i in range(len(x)):\n",
        "  print(x[i], y[i])"
      ],
      "execution_count": 21,
      "outputs": [
        {
          "output_type": "stream",
          "text": [
            "1 a\n",
            "2 b\n",
            "4 c\n",
            "8 d\n",
            "16 e\n"
          ],
          "name": "stdout"
        }
      ]
    },
    {
      "cell_type": "markdown",
      "metadata": {
        "id": "MEBQXHVXtxuJ",
        "colab_type": "text"
      },
      "source": [
        "In this case, Python also offers a better solution. You can apply zip and get tuples of the\n",
        "corresponding items:"
      ]
    },
    {
      "cell_type": "code",
      "metadata": {
        "id": "NK8LaDoSt1PJ",
        "colab_type": "code",
        "colab": {
          "base_uri": "https://localhost:8080/",
          "height": 101
        },
        "outputId": "aea6a555-6304-4fbd-cae1-923e26501528"
      },
      "source": [
        "for item in zip(x, y):\n",
        "  print(item)"
      ],
      "execution_count": 22,
      "outputs": [
        {
          "output_type": "stream",
          "text": [
            "(1, 'a')\n",
            "(2, 'b')\n",
            "(4, 'c')\n",
            "(8, 'd')\n",
            "(16, 'e')\n"
          ],
          "name": "stdout"
        }
      ]
    },
    {
      "cell_type": "markdown",
      "metadata": {
        "id": "VGzZcHn5t7vN",
        "colab_type": "text"
      },
      "source": [
        "You can combine it with unpacking:"
      ]
    },
    {
      "cell_type": "code",
      "metadata": {
        "id": "hqrFRpaQt8YI",
        "colab_type": "code",
        "colab": {
          "base_uri": "https://localhost:8080/",
          "height": 101
        },
        "outputId": "3b6e4c70-bf09-4b36-f365-58e5cd83698c"
      },
      "source": [
        "for x_item, y_item in zip(x, y):\n",
        "  print(x_item, y_item)"
      ],
      "execution_count": 23,
      "outputs": [
        {
          "output_type": "stream",
          "text": [
            "1 a\n",
            "2 b\n",
            "4 c\n",
            "8 d\n",
            "16 e\n"
          ],
          "name": "stdout"
        }
      ]
    },
    {
      "cell_type": "markdown",
      "metadata": {
        "id": "Z4IfaMgbuCIh",
        "colab_type": "text"
      },
      "source": [
        "Dictionary can be iterated in these two ways"
      ]
    },
    {
      "cell_type": "code",
      "metadata": {
        "id": "_Z_thl6luFiN",
        "colab_type": "code",
        "colab": {
          "base_uri": "https://localhost:8080/",
          "height": 50
        },
        "outputId": "b5d1fc1a-5f4f-4f8b-b8f2-3c9dd2f088c2"
      },
      "source": [
        "z = {'a': 0, 'b': 1}\n",
        "for k in z:\n",
        "  print(k, z[k])"
      ],
      "execution_count": 24,
      "outputs": [
        {
          "output_type": "stream",
          "text": [
            "a 0\n",
            "b 1\n"
          ],
          "name": "stdout"
        }
      ]
    },
    {
      "cell_type": "code",
      "metadata": {
        "id": "DCM6ALwguIse",
        "colab_type": "code",
        "colab": {
          "base_uri": "https://localhost:8080/",
          "height": 50
        },
        "outputId": "3db49c31-8c23-48fd-a77b-fbfcf28c5f52"
      },
      "source": [
        "for k, v in z.items():\n",
        "  print(k, v)"
      ],
      "execution_count": 25,
      "outputs": [
        {
          "output_type": "stream",
          "text": [
            "a 0\n",
            "b 1\n"
          ],
          "name": "stdout"
        }
      ]
    },
    {
      "cell_type": "markdown",
      "metadata": {
        "id": "eK58ioNhuN-0",
        "colab_type": "text"
      },
      "source": [
        "Comparing to Zero"
      ]
    },
    {
      "cell_type": "markdown",
      "metadata": {
        "id": "Lejv7e7TuUdF",
        "colab_type": "text"
      },
      "source": [
        "When you have numeric data, and you need to check if the numbers are equal to zero, you can but don’t have to use the comparison operators\n",
        "== and !=:"
      ]
    },
    {
      "cell_type": "code",
      "metadata": {
        "id": "iVW2u00tuXZq",
        "colab_type": "code",
        "colab": {
          "base_uri": "https://localhost:8080/",
          "height": 84
        },
        "outputId": "474d6dd2-67bb-4f9c-9c68-c914918b360f"
      },
      "source": [
        "#To print only non zero values from tuple x\n",
        "x = (1, 2, 0, 3, 0, 4)\n",
        "for item in x:\n",
        "    if item != 0:\n",
        "      print(item)\n"
      ],
      "execution_count": 26,
      "outputs": [
        {
          "output_type": "stream",
          "text": [
            "1\n",
            "2\n",
            "3\n",
            "4\n"
          ],
          "name": "stdout"
        }
      ]
    },
    {
      "cell_type": "markdown",
      "metadata": {
        "id": "Dz9b1qHBubpQ",
        "colab_type": "text"
      },
      "source": [
        "The Pythonic way is to exploit the fact that zero is interpreted as False in a Boolean\n",
        "context, while all other numbers are considered as True:"
      ]
    },
    {
      "cell_type": "code",
      "metadata": {
        "id": "V_rzP8pgukAG",
        "colab_type": "code",
        "colab": {
          "base_uri": "https://localhost:8080/",
          "height": 84
        },
        "outputId": "14b39304-dff3-428c-d070-e133010aa605"
      },
      "source": [
        "#bool(0)- False\n",
        "#bool(-1), bool(1), bool(20), bool(28.4) - (True, True, True, True)\n",
        "\n",
        "for item in x:\n",
        "  if item:\n",
        "    print(item)"
      ],
      "execution_count": 28,
      "outputs": [
        {
          "output_type": "stream",
          "text": [
            "1\n",
            "2\n",
            "3\n",
            "4\n"
          ],
          "name": "stdout"
        }
      ]
    },
    {
      "cell_type": "markdown",
      "metadata": {
        "id": "XpgFq1XFuuy_",
        "colab_type": "text"
      },
      "source": [
        "Avoiding Mutable Optional Arguments"
      ]
    },
    {
      "cell_type": "code",
      "metadata": {
        "id": "YXxPoIp8u0BN",
        "colab_type": "code",
        "colab": {
          "base_uri": "https://localhost:8080/",
          "height": 34
        },
        "outputId": "6c4850b0-1eff-4d93-acf3-a9aa4377462c"
      },
      "source": [
        "def func(value, seq=[]):\n",
        "  seq.append(value)\n",
        "  return seq\n",
        "print(func(value=2))"
      ],
      "execution_count": 29,
      "outputs": [
        {
          "output_type": "stream",
          "text": [
            "[2]\n"
          ],
          "name": "stdout"
        }
      ]
    },
    {
      "cell_type": "code",
      "metadata": {
        "id": "E53m8vdtu47G",
        "colab_type": "code",
        "colab": {
          "base_uri": "https://localhost:8080/",
          "height": 67
        },
        "outputId": "a635660f-f471-4828-cbf7-253acb4a914f"
      },
      "source": [
        "print(func(value=4))\n",
        "print(func(value=6))\n",
        "print(func(value=8))"
      ],
      "execution_count": 30,
      "outputs": [
        {
          "output_type": "stream",
          "text": [
            "[2, 4]\n",
            "[2, 4, 6]\n",
            "[2, 4, 6, 8]\n"
          ],
          "name": "stdout"
        }
      ]
    },
    {
      "cell_type": "markdown",
      "metadata": {
        "id": "zApuYZ38u91n",
        "colab_type": "text"
      },
      "source": [
        "keep away from that with some additional logic."
      ]
    },
    {
      "cell_type": "code",
      "metadata": {
        "id": "AX5TRuCuvBP-",
        "colab_type": "code",
        "colab": {
          "base_uri": "https://localhost:8080/",
          "height": 34
        },
        "outputId": "609af0d5-b533-4ef9-c29e-514a0e488829"
      },
      "source": [
        "def func(value, seq=None):\n",
        "  if seq is None:\n",
        "    seq = []\n",
        "    seq.append(value)\n",
        "    return seq\n",
        "print(func(value=6))\n"
      ],
      "execution_count": 31,
      "outputs": [
        {
          "output_type": "stream",
          "text": [
            "[6]\n"
          ],
          "name": "stdout"
        }
      ]
    }
  ]
}